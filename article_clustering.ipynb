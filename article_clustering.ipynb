{
 "cells": [
  {
   "cell_type": "code",
   "execution_count": 1,
   "metadata": {
    "collapsed": true
   },
   "outputs": [
    {
     "name": "stderr",
     "output_type": "stream",
     "text": [
      "C:\\Users\\onlyt\\Anaconda3\\lib\\site-packages\\fuzzywuzzy\\fuzz.py:11: UserWarning: Using slow pure-python SequenceMatcher. Install python-Levenshtein to remove this warning\n",
      "  warnings.warn('Using slow pure-python SequenceMatcher. Install python-Levenshtein to remove this warning')\n"
     ]
    }
   ],
   "source": [
    "from sklearn.decomposition import TruncatedSVD\n",
    "from sklearn.cluster import KMeans\n",
    "from sklearn.pipeline import make_pipeline\n",
    "from sklearn.feature_extraction.text import TfidfVectorizer, CountVectorizer\n",
    "\n",
    "from fuzzywuzzy import fuzz\n",
    "\n",
    "import pandas as pd\n",
    "import numpy as np\n",
    "\n",
    "import pickle\n",
    "\n",
    "import matplotlib.pyplot as plt"
   ]
  },
  {
   "cell_type": "code",
   "execution_count": 2,
   "metadata": {
    "collapsed": true
   },
   "outputs": [],
   "source": [
    "import sys\n",
    "import csv\n",
    "maxInt = sys.maxsize\n",
    "\n",
    "while True:\n",
    "    # decrease the maxInt value by factor 10 \n",
    "    # as long as the OverflowError occurs.\n",
    "\n",
    "    try:\n",
    "        csv.field_size_limit(maxInt)\n",
    "        break\n",
    "    except OverflowError:\n",
    "        maxInt = int(maxInt/10)"
   ]
  },
  {
   "cell_type": "code",
   "execution_count": null,
   "metadata": {},
   "outputs": [],
   "source": [
    "import warnings\n",
    "warnings.simplefilter(action=\"ignore\", category=FutureWarning)"
   ]
  },
  {
   "cell_type": "code",
   "execution_count": null,
   "metadata": {},
   "outputs": [],
   "source": [
    "from collections import Counter\n",
    "from nltk.stem import WordNetLemmatizer\n",
    "from nltk import word_tokenize"
   ]
  },
  {
   "cell_type": "code",
   "execution_count": 3,
   "metadata": {},
   "outputs": [],
   "source": [
    "def save_pickle(data, path):\n",
    "    data.to_pickle(path)\n",
    "def load_pickle(path):\n",
    "    return pd.read_pickle(path)\n",
    "def save_model(model, filename):\n",
    "    pickle.dump(model, open(filename, 'wb'))\n",
    "def load_model(filename):\n",
    "    # load the model from disk\n",
    "    loaded_model = pickle.load(open(filename, 'rb'))\n",
    "    return loaded_model"
   ]
  },
  {
   "cell_type": "code",
   "execution_count": 1,
   "metadata": {},
   "outputs": [],
   "source": [
    "def make_title(article):\n",
    "    csr = tfidf.fit_transform([article])\n",
    "    \n",
    "    csr = pd.Series(list(csr.toarray().reshape(-1,1)))\n",
    "    csr.index = tfidf.get_feature_names()\n",
    "    csr_sorted_id = csr.sort_values().index\n",
    "    csr_sorted = csr.sort_values()\n",
    "    \n",
    "    title = ''\n",
    "    counter = 0\n",
    "    for i in range(len(csr_sorted_id)):\n",
    "        if counter == 3:\n",
    "            return title\n",
    "        else:\n",
    "            if csr_sorted_id[-(i+1)] not in err_words:\n",
    "                title += ' '+csr_sorted_id[-(i+1)]\n",
    "                counter+=1"
   ]
  },
  {
   "cell_type": "code",
   "execution_count": 2,
   "metadata": {},
   "outputs": [],
   "source": [
    "def make_title_from_bagOfWords(article):\n",
    "    tokens = word_tokenize(article)\n",
    "    lower_tokens = [t.lower() for t in tokens]\n",
    "    \n",
    "    alpha_only = [t for t in lower_tokens if t.isalpha()]\n",
    "    no_stops = [t for t in alpha_only if t not in stop_words]\n",
    "    \n",
    "    wordnet_lemmatizer = WordNetLemmatizer()\n",
    "    lemmatized = [wordnet_lemmatizer.lemmatize(t) for t in no_stops]\n",
    "    \n",
    "    title = \"\"\n",
    "    bow = Counter(lemmatized)\n",
    "    for i in bow.most_common(3):\n",
    "        title+= ' '+ i[0]\n",
    "    return title"
   ]
  },
  {
   "cell_type": "code",
   "execution_count": null,
   "metadata": {},
   "outputs": [],
   "source": [
    "def select_n_components(var_ratio, goal_var: float) -> int:\n",
    "    # Set initial variance explained so far\n",
    "    total_variance = 0.0\n",
    "    \n",
    "    # Set initial number of features\n",
    "    n_components = 0\n",
    "    \n",
    "    # For the explained variance of each feature:\n",
    "    for explained_variance in var_ratio:\n",
    "        \n",
    "        # Add the explained variance to the total\n",
    "        total_variance += explained_variance\n",
    "        \n",
    "        # Add one to the number of components\n",
    "        n_components += 1\n",
    "        \n",
    "        # If we reach our goal level of explained variance\n",
    "        if total_variance >= goal_var:\n",
    "            # End the loop\n",
    "            break\n",
    "            \n",
    "    # Return the number of components\n",
    "    return n_components"
   ]
  },
  {
   "cell_type": "code",
   "execution_count": null,
   "metadata": {},
   "outputs": [],
   "source": [
    "def elbow(csr, a, b):\n",
    "    ks = range(a, b)\n",
    "    inertias = []\n",
    "    \n",
    "    for k in ks:\n",
    "        model = KMeans(n_clusters=k)\n",
    "        model.fit(csr)\n",
    "        inertias.append(model.inertia_)\n",
    "        \n",
    "    plt.plot(ks, inertias, '-o')\n",
    "    plt.xlabel('number of clusters, k')\n",
    "    plt.ylabel('inertia')\n",
    "    plt.xticks(ks)\n",
    "    plt.show()\n",
    "    return inertias"
   ]
  },
  {
   "cell_type": "code",
   "execution_count": null,
   "metadata": {},
   "outputs": [],
   "source": [
    "def make_category(df):\n",
    "    for i in np.unique(df.TfidVec_title_clustering):\n",
    "        corpus = df[df['TfidVec_title_clustering'] == i].title2\n",
    "        vec = CountVectorizer(stop_words=stop_words).fit(corpus)\n",
    "        bag_of_words = vec.transform(corpus)\n",
    "\n",
    "        sum_words = bag_of_words.sum(axis=0)\n",
    "        words_freq = [(word, sum_words[0, idx]) for word, idx in vec.vocabulary_.items()]\n",
    "        words_freq = sorted(words_freq, key = lambda x: x[1], reverse=True)\n",
    "\n",
    "        category_name = ''\n",
    "        for word in range(3):\n",
    "            if word == 2:\n",
    "                category_name += words_freq[word][0]\n",
    "            else:\n",
    "                category_name += words_freq[word][0] + '-'\n",
    "        df.loc[df.TfidVec_title_clustering == i, 'Category'] = category_name"
   ]
  },
  {
   "cell_type": "markdown",
   "metadata": {},
   "source": [
    "### First look on data"
   ]
  },
  {
   "cell_type": "code",
   "execution_count": 4,
   "metadata": {
    "collapsed": true
   },
   "outputs": [],
   "source": [
    "wiki_doc = pd.read_csv(r'documents_utf8_filtered_20pageviews.csv',engine='python', nrows=200000)"
   ]
  },
  {
   "cell_type": "code",
   "execution_count": 11,
   "metadata": {
    "collapsed": true
   },
   "outputs": [],
   "source": [
    "new_columns = ['article_id', 'text']"
   ]
  },
  {
   "cell_type": "code",
   "execution_count": 12,
   "metadata": {
    "collapsed": true
   },
   "outputs": [],
   "source": [
    "wiki_doc.rename(columns = {wiki_doc.columns[0] : new_columns[0],\n",
    "                          wiki_doc.columns[1] : new_columns[1]}, inplace=True)"
   ]
  },
  {
   "cell_type": "code",
   "execution_count": 13,
   "metadata": {},
   "outputs": [
    {
     "data": {
      "text/html": [
       "<div>\n",
       "<style scoped>\n",
       "    .dataframe tbody tr th:only-of-type {\n",
       "        vertical-align: middle;\n",
       "    }\n",
       "\n",
       "    .dataframe tbody tr th {\n",
       "        vertical-align: top;\n",
       "    }\n",
       "\n",
       "    .dataframe thead th {\n",
       "        text-align: right;\n",
       "    }\n",
       "</style>\n",
       "<table border=\"1\" class=\"dataframe\">\n",
       "  <thead>\n",
       "    <tr style=\"text-align: right;\">\n",
       "      <th></th>\n",
       "      <th>article_id</th>\n",
       "      <th>text</th>\n",
       "    </tr>\n",
       "  </thead>\n",
       "  <tbody>\n",
       "    <tr>\n",
       "      <th>0</th>\n",
       "      <td>wikipedia-23885928</td>\n",
       "      <td>The Death of Bunny Munro  The Death of Bunny ...</td>\n",
       "    </tr>\n",
       "    <tr>\n",
       "      <th>1</th>\n",
       "      <td>wikipedia-23886057</td>\n",
       "      <td>Management of prostate cancer  Treatment for ...</td>\n",
       "    </tr>\n",
       "    <tr>\n",
       "      <th>2</th>\n",
       "      <td>wikipedia-23886425</td>\n",
       "      <td>Cheetah reintroduction in India  Reintroducti...</td>\n",
       "    </tr>\n",
       "    <tr>\n",
       "      <th>3</th>\n",
       "      <td>wikipedia-23886491</td>\n",
       "      <td>Langtang National Park  The Langtang National...</td>\n",
       "    </tr>\n",
       "    <tr>\n",
       "      <th>4</th>\n",
       "      <td>wikipedia-23886546</td>\n",
       "      <td>Shivapuri Nagarjun National Park  Shivapuri N...</td>\n",
       "    </tr>\n",
       "  </tbody>\n",
       "</table>\n",
       "</div>"
      ],
      "text/plain": [
       "           article_id                                               text\n",
       "0  wikipedia-23885928   The Death of Bunny Munro  The Death of Bunny ...\n",
       "1  wikipedia-23886057   Management of prostate cancer  Treatment for ...\n",
       "2  wikipedia-23886425   Cheetah reintroduction in India  Reintroducti...\n",
       "3  wikipedia-23886491   Langtang National Park  The Langtang National...\n",
       "4  wikipedia-23886546   Shivapuri Nagarjun National Park  Shivapuri N..."
      ]
     },
     "execution_count": 13,
     "metadata": {},
     "output_type": "execute_result"
    }
   ],
   "source": [
    "wiki_doc.head()"
   ]
  },
  {
   "cell_type": "markdown",
   "metadata": {},
   "source": [
    "### Words that we don't want during processing"
   ]
  },
  {
   "cell_type": "code",
   "execution_count": 63,
   "metadata": {},
   "outputs": [],
   "source": [
    "err_words = ['from', 'about', 'after', 'also', 'although', \n",
    "            'back', 'based', 'became', 'been', 'called', 'even',\n",
    "            'five', 'from', 'have','however','include','later',\n",
    "            'more','most','only','other','over','received','some',\n",
    "            'that','their','then','these','third','this','three',\n",
    "            'until','well','were','which','with','would','often','they',\n",
    "            'lszc','mine', 'last', 'runs', 'fault', 'luzon' ,'benmosche',\n",
    "            'shown', 'one', 'new']\n",
    "from sklearn.feature_extraction import text \n",
    "\n",
    "stop_words = text.ENGLISH_STOP_WORDS.union(err_words)"
   ]
  },
  {
   "cell_type": "markdown",
   "metadata": {},
   "source": [
    "### Word frequency matrix (TfidVectorizer)"
   ]
  },
  {
   "cell_type": "code",
   "execution_count": 15,
   "metadata": {
    "collapsed": true
   },
   "outputs": [],
   "source": [
    "tfidf = TfidfVectorizer(\n",
    "    analyzer=\"word\",\n",
    "    token_pattern=r'\\w{4,}',\n",
    "    min_df = 0.2, \n",
    "    strip_accents='unicode',\n",
    "    stop_words=stop_words) "
   ]
  },
  {
   "cell_type": "markdown",
   "metadata": {},
   "source": [
    "### Make title using TfidVectorizer (one TfidVectorizer model on each article)"
   ]
  },
  {
   "cell_type": "code",
   "execution_count": 17,
   "metadata": {},
   "outputs": [],
   "source": [
    "wiki_doc['title'] = [make_title(wiki_doc.iloc[i, 1]) for i in range(wiki_doc.shape[0])]"
   ]
  },
  {
   "cell_type": "code",
   "execution_count": 18,
   "metadata": {},
   "outputs": [
    {
     "data": {
      "text/html": [
       "<div>\n",
       "<style scoped>\n",
       "    .dataframe tbody tr th:only-of-type {\n",
       "        vertical-align: middle;\n",
       "    }\n",
       "\n",
       "    .dataframe tbody tr th {\n",
       "        vertical-align: top;\n",
       "    }\n",
       "\n",
       "    .dataframe thead th {\n",
       "        text-align: right;\n",
       "    }\n",
       "</style>\n",
       "<table border=\"1\" class=\"dataframe\">\n",
       "  <thead>\n",
       "    <tr style=\"text-align: right;\">\n",
       "      <th></th>\n",
       "      <th>article_id</th>\n",
       "      <th>text</th>\n",
       "      <th>title</th>\n",
       "    </tr>\n",
       "  </thead>\n",
       "  <tbody>\n",
       "    <tr>\n",
       "      <th>0</th>\n",
       "      <td>wikipedia-23885928</td>\n",
       "      <td>The Death of Bunny Munro  The Death of Bunny ...</td>\n",
       "      <td>novel cave nick</td>\n",
       "    </tr>\n",
       "    <tr>\n",
       "      <th>1</th>\n",
       "      <td>wikipedia-23886057</td>\n",
       "      <td>Management of prostate cancer  Treatment for ...</td>\n",
       "      <td>prostate cancer radiation</td>\n",
       "    </tr>\n",
       "    <tr>\n",
       "      <th>2</th>\n",
       "      <td>wikipedia-23886425</td>\n",
       "      <td>Cheetah reintroduction in India  Reintroducti...</td>\n",
       "      <td>india cheetah asiatic</td>\n",
       "    </tr>\n",
       "    <tr>\n",
       "      <th>3</th>\n",
       "      <td>wikipedia-23886491</td>\n",
       "      <td>Langtang National Park  The Langtang National...</td>\n",
       "      <td>park national langtang</td>\n",
       "    </tr>\n",
       "    <tr>\n",
       "      <th>4</th>\n",
       "      <td>wikipedia-23886546</td>\n",
       "      <td>Shivapuri Nagarjun National Park  Shivapuri N...</td>\n",
       "      <td>park area himalayan</td>\n",
       "    </tr>\n",
       "  </tbody>\n",
       "</table>\n",
       "</div>"
      ],
      "text/plain": [
       "           article_id                                               text  \\\n",
       "0  wikipedia-23885928   The Death of Bunny Munro  The Death of Bunny ...   \n",
       "1  wikipedia-23886057   Management of prostate cancer  Treatment for ...   \n",
       "2  wikipedia-23886425   Cheetah reintroduction in India  Reintroducti...   \n",
       "3  wikipedia-23886491   Langtang National Park  The Langtang National...   \n",
       "4  wikipedia-23886546   Shivapuri Nagarjun National Park  Shivapuri N...   \n",
       "\n",
       "                        title  \n",
       "0             novel cave nick  \n",
       "1   prostate cancer radiation  \n",
       "2       india cheetah asiatic  \n",
       "3      park national langtang  \n",
       "4         park area himalayan  "
      ]
     },
     "execution_count": 18,
     "metadata": {},
     "output_type": "execute_result"
    }
   ],
   "source": [
    "wiki_doc.head()"
   ]
  },
  {
   "cell_type": "markdown",
   "metadata": {},
   "source": [
    "### Creating titles using bag of words aprroach"
   ]
  },
  {
   "cell_type": "code",
   "execution_count": 21,
   "metadata": {},
   "outputs": [],
   "source": [
    "wiki_doc['title2'] = [make_title_from_bagOfWords(wiki_doc.iloc[i, 1]) for i in range(wiki_doc.shape[0])]"
   ]
  },
  {
   "cell_type": "code",
   "execution_count": 22,
   "metadata": {},
   "outputs": [
    {
     "data": {
      "text/html": [
       "<div>\n",
       "<style scoped>\n",
       "    .dataframe tbody tr th:only-of-type {\n",
       "        vertical-align: middle;\n",
       "    }\n",
       "\n",
       "    .dataframe tbody tr th {\n",
       "        vertical-align: top;\n",
       "    }\n",
       "\n",
       "    .dataframe thead th {\n",
       "        text-align: right;\n",
       "    }\n",
       "</style>\n",
       "<table border=\"1\" class=\"dataframe\">\n",
       "  <thead>\n",
       "    <tr style=\"text-align: right;\">\n",
       "      <th></th>\n",
       "      <th>article_id</th>\n",
       "      <th>text</th>\n",
       "      <th>title</th>\n",
       "      <th>title2</th>\n",
       "    </tr>\n",
       "  </thead>\n",
       "  <tbody>\n",
       "    <tr>\n",
       "      <th>0</th>\n",
       "      <td>wikipedia-23885928</td>\n",
       "      <td>The Death of Bunny Munro  The Death of Bunny ...</td>\n",
       "      <td>novel cave nick</td>\n",
       "      <td>novel bunny nick</td>\n",
       "    </tr>\n",
       "    <tr>\n",
       "      <th>1</th>\n",
       "      <td>wikipedia-23886057</td>\n",
       "      <td>Management of prostate cancer  Treatment for ...</td>\n",
       "      <td>prostate cancer radiation</td>\n",
       "      <td>prostate cancer radiation</td>\n",
       "    </tr>\n",
       "    <tr>\n",
       "      <th>2</th>\n",
       "      <td>wikipedia-23886425</td>\n",
       "      <td>Cheetah reintroduction in India  Reintroducti...</td>\n",
       "      <td>india cheetah asiatic</td>\n",
       "      <td>cheetah india asiatic</td>\n",
       "    </tr>\n",
       "    <tr>\n",
       "      <th>3</th>\n",
       "      <td>wikipedia-23886491</td>\n",
       "      <td>Langtang National Park  The Langtang National...</td>\n",
       "      <td>park national langtang</td>\n",
       "      <td>park national langtang</td>\n",
       "    </tr>\n",
       "    <tr>\n",
       "      <th>4</th>\n",
       "      <td>wikipedia-23886546</td>\n",
       "      <td>Shivapuri Nagarjun National Park  Shivapuri N...</td>\n",
       "      <td>park area himalayan</td>\n",
       "      <td>park area indian</td>\n",
       "    </tr>\n",
       "  </tbody>\n",
       "</table>\n",
       "</div>"
      ],
      "text/plain": [
       "           article_id                                               text  \\\n",
       "0  wikipedia-23885928   The Death of Bunny Munro  The Death of Bunny ...   \n",
       "1  wikipedia-23886057   Management of prostate cancer  Treatment for ...   \n",
       "2  wikipedia-23886425   Cheetah reintroduction in India  Reintroducti...   \n",
       "3  wikipedia-23886491   Langtang National Park  The Langtang National...   \n",
       "4  wikipedia-23886546   Shivapuri Nagarjun National Park  Shivapuri N...   \n",
       "\n",
       "                        title                      title2  \n",
       "0             novel cave nick            novel bunny nick  \n",
       "1   prostate cancer radiation   prostate cancer radiation  \n",
       "2       india cheetah asiatic       cheetah india asiatic  \n",
       "3      park national langtang      park national langtang  \n",
       "4         park area himalayan            park area indian  "
      ]
     },
     "execution_count": 22,
     "metadata": {},
     "output_type": "execute_result"
    }
   ],
   "source": [
    "wiki_doc.head(5)"
   ]
  },
  {
   "cell_type": "markdown",
   "metadata": {},
   "source": [
    "### Make title using TfidVectorizer (TfidVectorizer model on all articles)"
   ]
  },
  {
   "cell_type": "code",
   "execution_count": 24,
   "metadata": {},
   "outputs": [],
   "source": [
    "csr_mat = tfidf.fit_transform(wiki_doc.iloc[:, 1])"
   ]
  },
  {
   "cell_type": "markdown",
   "metadata": {},
   "source": [
    "### SVD"
   ]
  },
  {
   "cell_type": "code",
   "execution_count": 25,
   "metadata": {},
   "outputs": [
    {
     "data": {
      "text/plain": [
       "TruncatedSVD(algorithm='randomized', n_components=76, n_iter=5,\n",
       "       random_state=None, tol=0.0)"
      ]
     },
     "execution_count": 25,
     "metadata": {},
     "output_type": "execute_result"
    }
   ],
   "source": [
    "svd = TruncatedSVD(n_components=csr_mat.shape[1]-1)\n",
    "svd.fit(csr_mat)"
   ]
  },
  {
   "cell_type": "code",
   "execution_count": 27,
   "metadata": {},
   "outputs": [],
   "source": [
    "n = select_n_components(svd.explained_variance_ratio_,0.90)\n",
    "svd = TruncatedSVD(n_components= n)\n",
    "csr_svd = svd.fit_transform(csr_mat)"
   ]
  },
  {
   "cell_type": "markdown",
   "metadata": {},
   "source": [
    "### KMeans - elbow method to choose the best \"k\" parameter"
   ]
  },
  {
   "cell_type": "code",
   "execution_count": 121,
   "metadata": {},
   "outputs": [
    {
     "data": {
      "image/png": "[encoded data removed]",
      "text/plain": [
       "<Figure size 432x288 with 1 Axes>"
      ]
     },
     "metadata": {
      "needs_background": "light"
     },
     "output_type": "display_data"
    }
   ],
   "source": [
    "# inertias = []\n",
    "next_inertias = elbow(csr_svd)\n",
    "inertias += next_inertias"
   ]
  },
  {
   "cell_type": "code",
   "execution_count": 123,
   "metadata": {},
   "outputs": [
    {
     "data": {
      "image/png": "[encoded data removed]",
      "text/plain": [
       "<Figure size 432x288 with 1 Axes>"
      ]
     },
     "metadata": {
      "needs_background": "light"
     },
     "output_type": "display_data"
    }
   ],
   "source": [
    "ks = range(10,80)\n",
    "plt.plot(ks, inertias, '-o')\n",
    "plt.xlabel('number of clusters, k')\n",
    "plt.ylabel('inertia')\n",
    "plt.xticks(ks)\n",
    "plt.show()"
   ]
  },
  {
   "cell_type": "markdown",
   "metadata": {},
   "source": [
    "### Clustering"
   ]
  },
  {
   "cell_type": "code",
   "execution_count": 29,
   "metadata": {},
   "outputs": [
    {
     "data": {
      "text/plain": [
       "KMeans(algorithm='auto', copy_x=True, init='k-means++', max_iter=300,\n",
       "    n_clusters=65, n_init=10, n_jobs=None, precompute_distances='auto',\n",
       "    random_state=None, tol=0.0001, verbose=0)"
      ]
     },
     "execution_count": 29,
     "metadata": {},
     "output_type": "execute_result"
    }
   ],
   "source": [
    "number_of_clusters = 65\n",
    "kmeans = KMeans(n_clusters = number_of_clusters)\n",
    "kmeans.fit(csr_svd)"
   ]
  },
  {
   "cell_type": "markdown",
   "metadata": {},
   "source": [
    "#### Predicting"
   ]
  },
  {
   "cell_type": "code",
   "execution_count": 32,
   "metadata": {
    "collapsed": true
   },
   "outputs": [],
   "source": [
    "labels = kmeans.predict(csr_svd)"
   ]
  },
  {
   "cell_type": "code",
   "execution_count": 33,
   "metadata": {
    "collapsed": true
   },
   "outputs": [],
   "source": [
    "wiki_doc['TfidVec_label'] = labels"
   ]
  },
  {
   "cell_type": "code",
   "execution_count": 24,
   "metadata": {},
   "outputs": [
    {
     "data": {
      "text/html": [
       "<div>\n",
       "<style scoped>\n",
       "    .dataframe tbody tr th:only-of-type {\n",
       "        vertical-align: middle;\n",
       "    }\n",
       "\n",
       "    .dataframe tbody tr th {\n",
       "        vertical-align: top;\n",
       "    }\n",
       "\n",
       "    .dataframe thead th {\n",
       "        text-align: right;\n",
       "    }\n",
       "</style>\n",
       "<table border=\"1\" class=\"dataframe\">\n",
       "  <thead>\n",
       "    <tr style=\"text-align: right;\">\n",
       "      <th></th>\n",
       "      <th>article_id</th>\n",
       "      <th>text</th>\n",
       "      <th>title</th>\n",
       "      <th>title2</th>\n",
       "      <th>TfidVec_label</th>\n",
       "    </tr>\n",
       "  </thead>\n",
       "  <tbody>\n",
       "    <tr>\n",
       "      <th>43</th>\n",
       "      <td>wikipedia-24103304</td>\n",
       "      <td>Glossary of HVAC terms  HVAC (heating, ventil...</td>\n",
       "      <td>hvac glossary terms</td>\n",
       "      <td>hvac glossary term</td>\n",
       "      <td>3</td>\n",
       "    </tr>\n",
       "    <tr>\n",
       "      <th>397</th>\n",
       "      <td>wikipedia-219424</td>\n",
       "      <td>Sergeant  Sergeant (normally abbreviated to S...</td>\n",
       "      <td>sergeant rank army</td>\n",
       "      <td>sergeant rank army</td>\n",
       "      <td>3</td>\n",
       "    </tr>\n",
       "    <tr>\n",
       "      <th>402</th>\n",
       "      <td>wikipedia-219498</td>\n",
       "      <td>Sadism and masochism in fiction  The role of ...</td>\n",
       "      <td>janice films fiction</td>\n",
       "      <td>fiction film janice</td>\n",
       "      <td>3</td>\n",
       "    </tr>\n",
       "    <tr>\n",
       "      <th>931</th>\n",
       "      <td>wikipedia-20193727</td>\n",
       "      <td>Design basis accident  A design basis acciden...</td>\n",
       "      <td>design basis accident</td>\n",
       "      <td>accident design basis</td>\n",
       "      <td>3</td>\n",
       "    </tr>\n",
       "    <tr>\n",
       "      <th>1096</th>\n",
       "      <td>wikipedia-16407460</td>\n",
       "      <td>Endogenous depression  Endogenous Depression ...</td>\n",
       "      <td>depression endogenous disorder</td>\n",
       "      <td>depression endogenous disorder</td>\n",
       "      <td>3</td>\n",
       "    </tr>\n",
       "  </tbody>\n",
       "</table>\n",
       "</div>"
      ],
      "text/plain": [
       "              article_id                                               text  \\\n",
       "43    wikipedia-24103304   Glossary of HVAC terms  HVAC (heating, ventil...   \n",
       "397     wikipedia-219424   Sergeant  Sergeant (normally abbreviated to S...   \n",
       "402     wikipedia-219498   Sadism and masochism in fiction  The role of ...   \n",
       "931   wikipedia-20193727   Design basis accident  A design basis acciden...   \n",
       "1096  wikipedia-16407460   Endogenous depression  Endogenous Depression ...   \n",
       "\n",
       "                                title                           title2  \\\n",
       "43                hvac glossary terms               hvac glossary term   \n",
       "397                sergeant rank army               sergeant rank army   \n",
       "402              janice films fiction              fiction film janice   \n",
       "931             design basis accident            accident design basis   \n",
       "1096   depression endogenous disorder   depression endogenous disorder   \n",
       "\n",
       "      TfidVec_label  \n",
       "43                3  \n",
       "397               3  \n",
       "402               3  \n",
       "931               3  \n",
       "1096              3  "
      ]
     },
     "execution_count": 24,
     "metadata": {},
     "output_type": "execute_result"
    }
   ],
   "source": [
    "wiki_doc[wiki_doc.TfidVec_label == 3].head()"
   ]
  },
  {
   "cell_type": "code",
   "execution_count": 63,
   "metadata": {},
   "outputs": [],
   "source": [
    "clusters = []\n",
    "for i in range(number_of_clusters):\n",
    "    clusters.append(df[df.iloc[:,1] == i])"
   ]
  },
  {
   "cell_type": "code",
   "execution_count": 65,
   "metadata": {
    "collapsed": true
   },
   "outputs": [],
   "source": [
    "merging_clusters = []\n",
    "for cluster in clusters:\n",
    "    merging_clusters.append(cluster.merge(wiki_doc.iloc[:, :], left_on='article_id', right_on='article_id'))"
   ]
  },
  {
   "cell_type": "code",
   "execution_count": 67,
   "metadata": {
    "collapsed": true
   },
   "outputs": [],
   "source": [
    "tfidfc = TfidfVectorizer(\n",
    "    analyzer=\"word\",\n",
    "    token_pattern=r'\\w{4,}',\n",
    "    min_df = 0.2, \n",
    "    strip_accents='unicode')"
   ]
  },
  {
   "cell_type": "code",
   "execution_count": null,
   "metadata": {},
   "outputs": [],
   "source": [
    "n = 10\n",
    "for i in range(len(merging_clusters)):\n",
    "    cl0wf = tfidfc.fit_transform(merging_clusters[i].iloc[:,2])\n",
    "    feature_array = np.array(tfidfc.get_feature_names())\n",
    "    tfidf_sorting = np.argsort(cl0wf.toarray()).flatten()[::-1]\n",
    "    print('Cluster '+str(i)+' 10 common words: \\n', feature_array[tfidf_sorting][:n])"
   ]
  },
  {
   "cell_type": "markdown",
   "metadata": {},
   "source": [
    "### Clustering on TfidVec titles"
   ]
  },
  {
   "cell_type": "code",
   "execution_count": 75,
   "metadata": {},
   "outputs": [],
   "source": [
    "tfidf_title2 = TfidfVectorizer(\n",
    "    analyzer=\"word\",\n",
    "    token_pattern=r'\\w{4,}',\n",
    "    strip_accents='unicode') "
   ]
  },
  {
   "cell_type": "code",
   "execution_count": 76,
   "metadata": {},
   "outputs": [],
   "source": [
    "csr_mat_title2 = tfidf_title2.fit_transform(wiki_doc.iloc[:, 3]) "
   ]
  },
  {
   "cell_type": "code",
   "execution_count": 78,
   "metadata": {},
   "outputs": [
    {
     "data": {
      "text/plain": [
       "KMeans(algorithm='auto', copy_x=True, init='k-means++', max_iter=300,\n",
       "    n_clusters=65, n_init=10, n_jobs=None, precompute_distances='auto',\n",
       "    random_state=None, tol=0.0001, verbose=0)"
      ]
     },
     "execution_count": 78,
     "metadata": {},
     "output_type": "execute_result"
    }
   ],
   "source": [
    "kmeans_title = KMeans(n_clusters = 65)\n",
    "kmeans_title.fit(csr_mat_title2)"
   ]
  },
  {
   "cell_type": "code",
   "execution_count": 79,
   "metadata": {},
   "outputs": [],
   "source": [
    "wiki_doc['TfidVec_title_clustering'] = kmeans_title.predict(csr_mat_title2)"
   ]
  },
  {
   "cell_type": "markdown",
   "metadata": {},
   "source": [
    "### Make category - BagOfWords"
   ]
  },
  {
   "cell_type": "code",
   "execution_count": 82,
   "metadata": {},
   "outputs": [],
   "source": [
    "make_category(wiki_doc)"
   ]
  },
  {
   "cell_type": "code",
   "execution_count": 85,
   "metadata": {},
   "outputs": [],
   "source": [
    "new_columns = ['article_id', 'article',\n",
    "               'title1', 'title2',\n",
    "               'article_cluster', 'title2_cluster', 'title2_category',\n",
    "               'title1_cluster', 'title1_category']\n",
    "wiki_doc.columns = new_columns"
   ]
  },
  {
   "cell_type": "code",
   "execution_count": 40,
   "metadata": {},
   "outputs": [],
   "source": [
    "wiki_doc.columns = ['ID',\n",
    "                   'Article',\n",
    "                   'Freq_title',\n",
    "                   'Bag_title',\n",
    "                   'Bag_cluster',\n",
    "                   'Bag_category',\n",
    "                   'Freq_cluster',\n",
    "                   'Freq_category',\n",
    "                   'Category']"
   ]
  },
  {
   "cell_type": "markdown",
   "metadata": {},
   "source": [
    "### Examples"
   ]
  },
  {
   "cell_type": "code",
   "execution_count": 45,
   "metadata": {},
   "outputs": [],
   "source": [
    "wiki_doc[wiki_doc.Bag_cluster == 10][['Article', 'Bag_title', 'Bag_cluster', 'Bag_category']].head().to_excel('category_name.xlsx')"
   ]
  },
  {
   "cell_type": "code",
   "execution_count": 48,
   "metadata": {},
   "outputs": [],
   "source": [
    "wiki_doc[wiki_doc.Freq_cluster == 9][['Article', 'Freq_title', 'Freq_cluster', 'Freq_category']].head().to_excel('category_name2.xlsx')"
   ]
  },
  {
   "cell_type": "code",
   "execution_count": 55,
   "metadata": {},
   "outputs": [],
   "source": [
    "wiki_doc[wiki_doc.Bag_cluster == 10][['Article', 'Freq_category', 'Bag_category', 'Category']].head().to_excel('category_final.xlsx')"
   ]
  },
  {
   "cell_type": "code",
   "execution_count": 62,
   "metadata": {},
   "outputs": [],
   "source": [
    "category_info = {}\n",
    "for i in pd.unique(wiki_doc.Category):\n",
    "    category_info[i] = wiki_doc[wiki_doc.Category == i].shape[0]"
   ]
  },
  {
   "cell_type": "code",
   "execution_count": 65,
   "metadata": {},
   "outputs": [],
   "source": [
    "import operator\n",
    "cat_sorted = dict(sorted(category_info.items(), key=operator.itemgetter(1)))"
   ]
  },
  {
   "cell_type": "code",
   "execution_count": 68,
   "metadata": {},
   "outputs": [
    {
     "name": "stdout",
     "output_type": "stream",
     "text": [
      "world war episode book film town 87020\n",
      "world war episode university club island 10369\n",
      "film role movie award 4786\n",
      "school club role university island 4181\n",
      "school club role book film town 4085\n",
      "album single track song 2570\n",
      "band album tour song 2231\n",
      "city area century town 1675\n",
      "song single video album 1650\n",
      "series episode role film 1620\n"
     ]
    }
   ],
   "source": [
    "max_key = 10\n",
    "for i in list(cat_sorted.keys())[::-1]:\n",
    "    if max_key == 0:\n",
    "        break\n",
    "    else:\n",
    "        print(i, category_info[i])\n",
    "        max_key -=1"
   ]
  },
  {
   "cell_type": "markdown",
   "metadata": {},
   "source": [
    "### Conecting category names into one combined category"
   ]
  },
  {
   "cell_type": "code",
   "execution_count": 19,
   "metadata": {},
   "outputs": [],
   "source": [
    "wiki_doc[\"Category\"] = wiki_doc[\"title2_category\"].map(str) + '-' + wiki_doc[\"title1_category\"].map(str)"
   ]
  },
  {
   "cell_type": "code",
   "execution_count": 20,
   "metadata": {},
   "outputs": [],
   "source": [
    "wiki_doc[\"Category\"] = wiki_doc[\"Category\"].apply(lambda x: ' '.join(pd.unique(x.split('-'))))"
   ]
  }
 ],
 "metadata": {
  "kernelspec": {
   "display_name": "Python 3",
   "language": "python",
   "name": "python3"
  },
  "language_info": {
   "codemirror_mode": {
    "name": "ipython",
    "version": 3
   },
   "file_extension": ".py",
   "mimetype": "text/x-python",
   "name": "python",
   "nbconvert_exporter": "python",
   "pygments_lexer": "ipython3",
   "version": "3.7.1"
  }
 },
 "nbformat": 4,
 "nbformat_minor": 2
}
